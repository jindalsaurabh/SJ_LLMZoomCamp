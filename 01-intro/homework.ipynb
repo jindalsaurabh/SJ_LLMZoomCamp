{
 "cells": [
  {
   "cell_type": "code",
   "execution_count": null,
   "id": "4f0279bd-8aef-4c42-aa04-e1a36411479e",
   "metadata": {},
   "outputs": [],
   "source": [
    "import openai"
   ]
  },
  {
   "cell_type": "code",
   "execution_count": 1,
   "id": "768518e7-c61f-4fac-95e3-4121db259ba9",
   "metadata": {},
   "outputs": [],
   "source": [
    "from openai import OpenAI\n",
    "client = OpenAI()\n",
    "import os"
   ]
  },
  {
   "cell_type": "code",
   "execution_count": 6,
   "id": "f0d1a1a4-cf6c-4fde-805c-2bce93b72d03",
   "metadata": {},
   "outputs": [],
   "source": [
    "response = client.chat.completions.create(\n",
    "    model = 'gpt-4o-mini',\n",
    "    messages = [{\"role\":\"user\", \"content\": \"is it too late to change the course?\"}]\n",
    ")"
   ]
  },
  {
   "cell_type": "code",
   "execution_count": 8,
   "id": "cea33a82-bec1-4bf3-af41-1f72c92fc490",
   "metadata": {},
   "outputs": [
    {
     "data": {
      "text/plain": [
       "\"Whether it's too late to change a course depends on the context in which you're asking. If you’re referring to an academic course, many institutions allow drops or changes within certain deadlines at the start of the semester or term. If it's about a career path or personal goals, it's rarely too late to make a change, though it may require thoughtful planning and effort. Could you provide more details about what kind of course you're referring to?\""
      ]
     },
     "execution_count": 8,
     "metadata": {},
     "output_type": "execute_result"
    }
   ],
   "source": [
    "response.choices[0].message.content\n"
   ]
  },
  {
   "cell_type": "code",
   "execution_count": null,
   "id": "4b888d5a-2410-4fb3-bc3f-557a751550c9",
   "metadata": {},
   "outputs": [],
   "source": []
  }
 ],
 "metadata": {
  "kernelspec": {
   "display_name": "Python 3 (ipykernel)",
   "language": "python",
   "name": "python3"
  },
  "language_info": {
   "codemirror_mode": {
    "name": "ipython",
    "version": 3
   },
   "file_extension": ".py",
   "mimetype": "text/x-python",
   "name": "python",
   "nbconvert_exporter": "python",
   "pygments_lexer": "ipython3",
   "version": "3.12.1"
  }
 },
 "nbformat": 4,
 "nbformat_minor": 5
}
